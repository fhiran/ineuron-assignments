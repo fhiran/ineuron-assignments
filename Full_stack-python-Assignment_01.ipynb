{
 "cells": [
  {
   "cell_type": "code",
   "execution_count": null,
   "metadata": {},
   "outputs": [],
   "source": [
    "#1\n",
    "# Data Types: Integers, Floats, Booleans, Strings, Lists, Tuples, Sets, Dictionaries\n",
    "# Operators: Arithmetic, Assignment, Comparison, Logical, Membership, Identity\n",
    "\n",
    "# *  multipication operator\n",
    "# 'hello'  Data type string\n",
    "# -87.8  negative integer \n",
    "# -  sub traction Arithmetic operator\n",
    "# /  division Arithmetic operator\n",
    "# +  addition Arithmetic operator\n",
    "# 6  data type integer value\n"
   ]
  },
  {
   "cell_type": "code",
   "execution_count": 31,
   "metadata": {},
   "outputs": [],
   "source": [
    "#2\n",
    "# spam as a variable can be assign to a any Data Types , Data Types: Integers, Floats, Booleans, Strings, Lists, Tuples, Sets, Dictionaries\n",
    "# if we take 'spam' as a Data type Strings  it only a string data type , cannot assign to other Data Types\n",
    "\n"
   ]
  },
  {
   "cell_type": "code",
   "execution_count": null,
   "metadata": {},
   "outputs": [],
   "source": [
    "#3\n",
    "# Python has the following data types built-in by default\n",
    "\n",
    "# Text Type : str\n",
    "# Numeric Types: int, float, complex\n",
    "# Sequence Types: list, tuple, range\n",
    "# Mapping Type: dict\n",
    "# Set Types: set\n",
    "# Boolean Type: bool\n",
    "\n",
    "# Sequence Types: list \n",
    "# List is an ordered sequence of items. \n",
    "# It is one of the most used datatype in Python and is very flexible.\n",
    "# All the items in a list do not need to be of the same type\n",
    "\n",
    "# Sequence Types:tupple\n",
    "# Tuple is an ordered sequence of items same as a list. \n",
    "# The only difference is that tuples are immutable.\n",
    "# Tuples once created cannot be modified.\n",
    "\n",
    "# Text Type: str\n",
    "# String is sequence of Unicode characters.\n",
    "# use single quotes or double quotes to represent strings"
   ]
  },
  {
   "cell_type": "code",
   "execution_count": null,
   "metadata": {},
   "outputs": [],
   "source": [
    "#4  this question is not clear to me , I will answer what I undestand\n",
    "\n",
    "# In mathematics expression  make of  numbers, symoles and operators ( such a  +,-, *./ etc) grouped togather \n",
    "# that show the value of something.\n",
    "# Expression = (Number, Math Operator, Number)\n",
    "# eg:\n",
    "# 3+4\n",
    "# 5-x/4=100    5-x/4  is the expression"
   ]
  },
  {
   "cell_type": "code",
   "execution_count": 1,
   "metadata": {},
   "outputs": [
    {
     "data": {
      "text/plain": [
       "int"
      ]
     },
     "execution_count": 1,
     "metadata": {},
     "output_type": "execute_result"
    }
   ],
   "source": [
    "#5\n",
    "# spam is a variable and it assign the integer value 10\n",
    "spam = 10\n",
    "type(spam)"
   ]
  },
  {
   "cell_type": "code",
   "execution_count": 1,
   "metadata": {},
   "outputs": [
    {
     "name": "stdout",
     "output_type": "stream",
     "text": [
      "23\n"
     ]
    }
   ],
   "source": [
    "#6\n",
    "\n",
    "bacon=22\n",
    "print(bacon+1)"
   ]
  },
  {
   "cell_type": "code",
   "execution_count": 3,
   "metadata": {},
   "outputs": [
    {
     "name": "stdout",
     "output_type": "stream",
     "text": [
      "spmspamspam\n"
     ]
    }
   ],
   "source": [
    "#7.1\n",
    "print('spm' + 'spamspam')\n"
   ]
  },
  {
   "cell_type": "code",
   "execution_count": 4,
   "metadata": {},
   "outputs": [
    {
     "name": "stdout",
     "output_type": "stream",
     "text": [
      "spamspamspam\n"
     ]
    }
   ],
   "source": [
    "#7.2\n",
    "print('spam'*3)\n"
   ]
  },
  {
   "cell_type": "code",
   "execution_count": null,
   "metadata": {},
   "outputs": [],
   "source": [
    "# 8\n",
    "# need to think about variable nameing conversions\n",
    "# there are some rules need to fllow while give a name for a variable\n",
    "# Rule-1: start variable name with an alphabet or underscore(_) character.\n",
    "# Rule-2: A variable name can only contain A-Z,a-z,0-9 and underscore(_).\n",
    "# Rule-3: cannot start the variable name with a number.\n",
    "# Rule-4: cannot use special characters with the variable name such as such as $,%,#,&,@.-,^ etc.\n",
    "# Rule-5: Variable names are case sensitive. For example str and Str are two different variables.\n",
    "# Rule-6: Do not use reserve keyword as a variable name. for example keywords like class, for, def, del, is, else, try, from, etc.\n",
    "\n",
    "# under the Rule_1  egg can take asa variable name , under Rule_3  100 cannot take like as a variable name"
   ]
  },
  {
   "cell_type": "code",
   "execution_count": 18,
   "metadata": {},
   "outputs": [
    {
     "name": "stdout",
     "output_type": "stream",
     "text": [
      "67.7\n",
      "67\n"
     ]
    },
    {
     "data": {
      "text/plain": [
       "int"
      ]
     },
     "execution_count": 18,
     "metadata": {},
     "output_type": "execute_result"
    }
   ],
   "source": [
    "# 9\n",
    "# Which of the following three functions may be used to convert a value to an integer, a\n",
    "# floating-point number, or a string?\n",
    "\n",
    "# we can use function  int() to convert floating-point number to an integer\n",
    "a= 67.7\n",
    "print(a)\n",
    "type(a)\n",
    "print(int(a))\n",
    "type(int(a))\n",
    "\n"
   ]
  },
  {
   "cell_type": "code",
   "execution_count": 24,
   "metadata": {},
   "outputs": [
    {
     "name": "stdout",
     "output_type": "stream",
     "text": [
      " please enter a integer numbere11\n"
     ]
    },
    {
     "data": {
      "text/plain": [
       "int"
      ]
     },
     "execution_count": 24,
     "metadata": {},
     "output_type": "execute_result"
    }
   ],
   "source": [
    "a=int(input(\" please enter a integer numbere\"))\n",
    "type(a)\n"
   ]
  },
  {
   "cell_type": "code",
   "execution_count": 27,
   "metadata": {},
   "outputs": [
    {
     "name": "stdout",
     "output_type": "stream",
     "text": [
      "50.0\n"
     ]
    },
    {
     "data": {
      "text/plain": [
       "float"
      ]
     },
     "execution_count": 27,
     "metadata": {},
     "output_type": "execute_result"
    }
   ],
   "source": [
    "\n",
    "# can use function float()  to convert a integer value to a float value\n",
    "a=50\n",
    "type(a)\n",
    "\n",
    "b=float(a)\n",
    "print(b)\n",
    "type(b)"
   ]
  },
  {
   "cell_type": "code",
   "execution_count": 10,
   "metadata": {},
   "outputs": [
    {
     "name": "stdout",
     "output_type": "stream",
     "text": [
      "I have eaten99burritos.\n"
     ]
    }
   ],
   "source": [
    "#10\n",
    "# 10. What is the error caused by this expression? What would you do about it?\n",
    "\n",
    "print('I have eaten' + '99' +'burritos.')"
   ]
  },
  {
   "cell_type": "code",
   "execution_count": null,
   "metadata": {},
   "outputs": [],
   "source": []
  }
 ],
 "metadata": {
  "kernelspec": {
   "display_name": "Python 3",
   "language": "python",
   "name": "python3"
  },
  "language_info": {
   "codemirror_mode": {
    "name": "ipython",
    "version": 3
   },
   "file_extension": ".py",
   "mimetype": "text/x-python",
   "name": "python",
   "nbconvert_exporter": "python",
   "pygments_lexer": "ipython3",
   "version": "3.7.4"
  }
 },
 "nbformat": 4,
 "nbformat_minor": 2
}
