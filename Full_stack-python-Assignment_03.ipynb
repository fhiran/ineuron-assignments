{
 "cells": [
  {
   "cell_type": "code",
   "execution_count": null,
   "metadata": {},
   "outputs": [],
   "source": [
    "#1 : Why are functions advantageous to have in your programs?\n",
    "# Reducing duplication of code.\n",
    "# Decomposing complex problems into simpler pieces.\n",
    "# Improving clarity of the code.\n",
    "# Reuse of code.\n",
    "# Information hiding"
   ]
  },
  {
   "cell_type": "code",
   "execution_count": null,
   "metadata": {},
   "outputs": [],
   "source": [
    "# 2  when the  function is called inside the main program"
   ]
  },
  {
   "cell_type": "code",
   "execution_count": null,
   "metadata": {},
   "outputs": [],
   "source": [
    "# 3\n",
    "# executes a function: It consists of the name of the function followed by a list of arguments enclosed in parentheses.\n",
    "# \"def” keyword is a statement for defining a function in Python"
   ]
  },
  {
   "cell_type": "code",
   "execution_count": null,
   "metadata": {},
   "outputs": [],
   "source": [
    "# 4\n",
    "# A function is a block of code that does a particular operation and returns a result.\n",
    "# It usually accepts inputs as parameters and returns a result.\n",
    "# A function call is the code used to pass control to a function"
   ]
  },
  {
   "cell_type": "code",
   "execution_count": 9,
   "metadata": {},
   "outputs": [
    {
     "name": "stdout",
     "output_type": "stream",
     "text": [
      "100\n",
      "100\n"
     ]
    }
   ],
   "source": [
    "# 5 How many global scopes are there in a Python program? How many local scopes?\n",
    "# only one global Python scope per program execution in python program. more than one local scopes\n",
    "# local scope is created whenever a function is called\n",
    "# This scope remains in existence until the program terminates and all its names are forgotten\n",
    "# here a  is global variable\n",
    "\n",
    "a=100\n",
    "\n",
    "def printnum():\n",
    "    print(a)\n",
    "    \n",
    "    \n",
    "printnum()\n",
    "\n",
    "print(a)\n"
   ]
  },
  {
   "cell_type": "code",
   "execution_count": 26,
   "metadata": {},
   "outputs": [
    {
     "name": "stdout",
     "output_type": "stream",
     "text": [
      "200\n",
      "300\n",
      "100\n",
      "200\n"
     ]
    },
    {
     "data": {
      "text/plain": [
       "NoneType"
      ]
     },
     "execution_count": 26,
     "metadata": {},
     "output_type": "execute_result"
    }
   ],
   "source": [
    "\n",
    "a=100\n",
    "\n",
    "def printnum():\n",
    "    a=200\n",
    "    print(a) # function print the local   a\n",
    "    \n",
    "def printnumber():\n",
    "    a=300\n",
    "    print(a) # function print the local   a\n",
    "    \n",
    "    \n",
    "printnum()  # function print the local   a =200\n",
    "\n",
    "printnumber() # function print the local   a =300\n",
    "\n",
    "print(a)  #  code print the global a=100\n",
    "\n",
    "type(printnum())\n",
    "# c=2*printnum() gives error due to integer cannot multiply with NoneType\n"
   ]
  },
  {
   "cell_type": "code",
   "execution_count": 30,
   "metadata": {},
   "outputs": [
    {
     "data": {
      "text/plain": [
       "400"
      ]
     },
     "execution_count": 30,
     "metadata": {},
     "output_type": "execute_result"
    }
   ],
   "source": [
    "# 6  local scope b=200 return as a integer value\n",
    "def printnum():\n",
    "    b=200\n",
    "    return b\n",
    "\n",
    "printnum()\n",
    "type(printnum()) # type   int\n",
    "c=2*printnum()\n",
    "c"
   ]
  },
  {
   "cell_type": "code",
   "execution_count": 39,
   "metadata": {},
   "outputs": [
    {
     "data": {
      "text/plain": [
       "30"
      ]
     },
     "execution_count": 39,
     "metadata": {},
     "output_type": "execute_result"
    }
   ],
   "source": [
    "# 7\n",
    "# return value have a data type  int , str etc  cannot be NoneType\n",
    "# yes , return value in expression\n",
    "\n",
    "def add (a,b):\n",
    "    return (a+b)  # yes , return value in expression\n",
    "\n",
    "add(10,20)\n",
    "# type(add(10,20))   returns  int\n"
   ]
  },
  {
   "cell_type": "code",
   "execution_count": 44,
   "metadata": {},
   "outputs": [
    {
     "data": {
      "text/plain": [
       "'abcdef'"
      ]
     },
     "execution_count": 44,
     "metadata": {},
     "output_type": "execute_result"
    }
   ],
   "source": [
    "def add (a,b):\n",
    "    return (a+b)  # yes , return value in expression\n",
    "\n",
    "add('abc','def')  #  type(add('abc','def') )  is   str\n",
    "# type(add('abc','def') )\n"
   ]
  },
  {
   "cell_type": "code",
   "execution_count": 47,
   "metadata": {},
   "outputs": [
    {
     "data": {
      "text/plain": [
       "NoneType"
      ]
     },
     "execution_count": 47,
     "metadata": {},
     "output_type": "execute_result"
    }
   ],
   "source": [
    "#8 NoneType\n",
    "def add(a,b):\n",
    "    a+b\n",
    "    \n",
    "add(20,30) \n",
    "    \n",
    "type(add(20,30))  \n"
   ]
  },
  {
   "cell_type": "code",
   "execution_count": 62,
   "metadata": {},
   "outputs": [
    {
     "name": "stdout",
     "output_type": "stream",
     "text": [
      "ineoron\n"
     ]
    }
   ],
   "source": [
    "#9\n",
    "# variable inside a function, that variable is local, and can only be used inside that function.\n",
    "# use the global keyword, the variable belongs to the global scope\n",
    "\n",
    "def myfunc1():\n",
    "    global x\n",
    "    x=\"ineoron\"\n",
    "myfunc1()   \n",
    "print(x)\n"
   ]
  },
  {
   "cell_type": "code",
   "execution_count": 64,
   "metadata": {},
   "outputs": [
    {
     "name": "stdout",
     "output_type": "stream",
     "text": [
      "abc\n"
     ]
    }
   ],
   "source": [
    "y=\"ineoron\"\n",
    "def myfunc2():\n",
    "    global y\n",
    "    y=\"abc\"\n",
    "myfunc2()   \n",
    "print(y)"
   ]
  },
  {
   "cell_type": "code",
   "execution_count": null,
   "metadata": {},
   "outputs": [],
   "source": [
    "#10  data type NONE : NoneType,    define a null value, or no value at all.\n"
   ]
  },
  {
   "cell_type": "code",
   "execution_count": null,
   "metadata": {},
   "outputs": [],
   "source": [
    "#11  import areallyourpetsnamederic #  imports a module named areallyourpetsnamederic"
   ]
  },
  {
   "cell_type": "code",
   "execution_count": null,
   "metadata": {},
   "outputs": [],
   "source": [
    "#12  This function can  called with spam.bacon()\n"
   ]
  },
  {
   "cell_type": "code",
   "execution_count": null,
   "metadata": {},
   "outputs": [],
   "source": [
    "#13  use the line of code that may cause a error with a   try clause\n",
    "\n",
    "\n"
   ]
  },
  {
   "cell_type": "code",
   "execution_count": 66,
   "metadata": {},
   "outputs": [
    {
     "ename": "ZeroDivisionError",
     "evalue": "division by zero",
     "output_type": "error",
     "traceback": [
      "\u001b[1;31m---------------------------------------------------------------------------\u001b[0m",
      "\u001b[1;31mZeroDivisionError\u001b[0m                         Traceback (most recent call last)",
      "\u001b[1;32m<ipython-input-66-ecfcc50736a7>\u001b[0m in \u001b[0;36m<module>\u001b[1;34m\u001b[0m\n\u001b[0;32m      9\u001b[0m \u001b[1;33m\u001b[0m\u001b[0m\n\u001b[0;32m     10\u001b[0m \u001b[1;33m\u001b[0m\u001b[0m\n\u001b[1;32m---> 11\u001b[1;33m \u001b[0mnumdivide\u001b[0m\u001b[1;33m(\u001b[0m\u001b[1;36m10\u001b[0m\u001b[1;33m,\u001b[0m\u001b[1;36m0\u001b[0m\u001b[1;33m)\u001b[0m\u001b[1;33m\u001b[0m\u001b[1;33m\u001b[0m\u001b[0m\n\u001b[0m",
      "\u001b[1;32m<ipython-input-66-ecfcc50736a7>\u001b[0m in \u001b[0;36mnumdivide\u001b[1;34m(a, b)\u001b[0m\n\u001b[0;32m      5\u001b[0m \u001b[1;33m\u001b[0m\u001b[0m\n\u001b[0;32m      6\u001b[0m \u001b[1;32mdef\u001b[0m \u001b[0mnumdivide\u001b[0m\u001b[1;33m(\u001b[0m\u001b[0ma\u001b[0m\u001b[1;33m,\u001b[0m\u001b[0mb\u001b[0m\u001b[1;33m)\u001b[0m\u001b[1;33m:\u001b[0m\u001b[1;33m\u001b[0m\u001b[1;33m\u001b[0m\u001b[0m\n\u001b[1;32m----> 7\u001b[1;33m     \u001b[1;32mreturn\u001b[0m\u001b[1;33m(\u001b[0m\u001b[0ma\u001b[0m\u001b[1;33m/\u001b[0m\u001b[0mb\u001b[0m\u001b[1;33m)\u001b[0m\u001b[1;33m\u001b[0m\u001b[1;33m\u001b[0m\u001b[0m\n\u001b[0m\u001b[0;32m      8\u001b[0m \u001b[1;33m\u001b[0m\u001b[0m\n\u001b[0;32m      9\u001b[0m \u001b[1;33m\u001b[0m\u001b[0m\n",
      "\u001b[1;31mZeroDivisionError\u001b[0m: division by zero"
     ]
    }
   ],
   "source": [
    "#14\n",
    "#  try clause:  The code that could potentially cause an error\n",
    "# except clause : code that executes if an error happens\n",
    "\n",
    "\n",
    "def numdivide(a,b):\n",
    "    return(a/b)\n",
    "\n",
    "\n",
    "\n",
    "numdivide(10,0)\n"
   ]
  },
  {
   "cell_type": "code",
   "execution_count": 68,
   "metadata": {},
   "outputs": [
    {
     "data": {
      "text/plain": [
       "5.0"
      ]
     },
     "execution_count": 68,
     "metadata": {},
     "output_type": "execute_result"
    }
   ],
   "source": [
    "def numdivide(a,b):\n",
    "    try:\n",
    "        return(a/b)\n",
    "    except ZeroDivisionError:\n",
    "        print(\"Error: division by zero\")\n",
    "        \n",
    "        \n",
    "numdivide(10,2)\n",
    "        \n",
    "    "
   ]
  },
  {
   "cell_type": "code",
   "execution_count": 69,
   "metadata": {},
   "outputs": [
    {
     "name": "stdout",
     "output_type": "stream",
     "text": [
      "Error: division by zero\n"
     ]
    }
   ],
   "source": [
    "numdivide(10,0)"
   ]
  },
  {
   "cell_type": "code",
   "execution_count": null,
   "metadata": {},
   "outputs": [],
   "source": []
  }
 ],
 "metadata": {
  "kernelspec": {
   "display_name": "Python 3",
   "language": "python",
   "name": "python3"
  },
  "language_info": {
   "codemirror_mode": {
    "name": "ipython",
    "version": 3
   },
   "file_extension": ".py",
   "mimetype": "text/x-python",
   "name": "python",
   "nbconvert_exporter": "python",
   "pygments_lexer": "ipython3",
   "version": "3.7.4"
  }
 },
 "nbformat": 4,
 "nbformat_minor": 2
}
