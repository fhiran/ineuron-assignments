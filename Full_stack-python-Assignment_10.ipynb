{
 "cells": [
  {
   "cell_type": "code",
   "execution_count": null,
   "metadata": {},
   "outputs": [],
   "source": [
    "#1\n",
    "# shutil.copy(source, destination)   copy the file at the path source to the folder at the path destination.\n",
    "# shutil.copytree()     will copy an entire folder, along with all its contents."
   ]
  },
  {
   "cell_type": "code",
   "execution_count": null,
   "metadata": {},
   "outputs": [],
   "source": [
    "#2\n",
    "# shutil.move() "
   ]
  },
  {
   "cell_type": "code",
   "execution_count": null,
   "metadata": {},
   "outputs": [],
   "source": [
    "#3\n",
    "# send2trash functions will move a file or folder to the recycle bin\n",
    "# shutil  will permanently delete files and folders"
   ]
  },
  {
   "cell_type": "code",
   "execution_count": null,
   "metadata": {},
   "outputs": [],
   "source": [
    "#4\n",
    "# zipfile.ZipFile() function is equivalent to the open() function;"
   ]
  },
  {
   "cell_type": "code",
   "execution_count": null,
   "metadata": {},
   "outputs": [],
   "source": [
    "#5\n",
    "#\n"
   ]
  },
  {
   "cell_type": "code",
   "execution_count": 30,
   "metadata": {
    "scrolled": true
   },
   "outputs": [
    {
     "name": "stdout",
     "output_type": "stream",
     "text": [
      " foldername is C:/Users/vfernhi/Test\n",
      "sub  folder is  C:/Users/vfernhi/Test cat\n",
      "files inside  C:/Users/vfernhi/Test test.txt\n",
      "files inside  C:/Users/vfernhi/Test testdisk.pdf\n",
      "sub  folder is  C:/Users/vfernhi/Test files\n",
      "files inside  C:/Users/vfernhi/Test test.txt\n",
      "files inside  C:/Users/vfernhi/Test testdisk.pdf\n",
      "sub  folder is  C:/Users/vfernhi/Test lion\n",
      "files inside  C:/Users/vfernhi/Test test.txt\n",
      "files inside  C:/Users/vfernhi/Test testdisk.pdf\n",
      " foldername is C:/Users/vfernhi/Test\\cat\n",
      " foldername is C:/Users/vfernhi/Test\\files\n",
      " foldername is C:/Users/vfernhi/Test\\lion\n"
     ]
    }
   ],
   "source": [
    "import zipfile, os\n",
    "folder=\"C:/Users/vfernhi/Test\"\n",
    "\n",
    "for folderName, subfolders, filenames in os.walk(folder):\n",
    "#    print (f'add files in {foldername}')\n",
    "    print (' foldername is '  + folderName)\n",
    "#print (' subfolders is '  + subfolders)\n",
    "#    print('filenames is '   + filenames )\n",
    "    \n",
    "    for subfolder in subfolders:\n",
    "        print ('sub  folder is  ' + folderName + ' '  +  subfolder)\n",
    "        \n",
    "        for filename in filenames:\n",
    "            print ('files inside  ' + folderName + ' ' + filename)\n",
    "    "
   ]
  },
  {
   "cell_type": "code",
   "execution_count": 40,
   "metadata": {},
   "outputs": [
    {
     "name": "stdout",
     "output_type": "stream",
     "text": [
      "['.pdf', '.jpeg', '.txt']\n",
      "test\n",
      ".txt\n",
      " foldername is C:\\Users\\vfernhi\\Test\n",
      "filepath isC:\\Users\\vfernhi\\Test\\test.txt\n",
      "cat\n",
      ".txt\n",
      " foldername is C:\\Users\\vfernhi\\Test\\cat\n",
      "filepath isC:\\Users\\vfernhi\\Test\\cat\\cat.txt\n",
      "testdisk1\n",
      ".pdf\n",
      " foldername is C:\\Users\\vfernhi\\Test\\cat\n",
      "filepath isC:\\Users\\vfernhi\\Test\\cat\\testdisk1.pdf\n",
      "file\n",
      ".txt\n",
      " foldername is C:\\Users\\vfernhi\\Test\\files\n",
      "filepath isC:\\Users\\vfernhi\\Test\\files\\file.txt\n",
      "testdisk2\n",
      ".pdf\n",
      " foldername is C:\\Users\\vfernhi\\Test\\files\n",
      "filepath isC:\\Users\\vfernhi\\Test\\files\\testdisk2.pdf\n",
      "lion\n",
      ".txt\n",
      " foldername is C:\\Users\\vfernhi\\Test\\lion\n",
      "filepath isC:\\Users\\vfernhi\\Test\\lion\\lion.txt\n",
      "testdisk3\n",
      ".pdf\n",
      " foldername is C:\\Users\\vfernhi\\Test\\lion\n",
      "filepath isC:\\Users\\vfernhi\\Test\\lion\\testdisk3.pdf\n"
     ]
    }
   ],
   "source": [
    "# 5\n",
    "\n",
    "import shutil,os\n",
    "# shutil.copy(source, destination)\n",
    "# copy file from source to destination\n",
    "# shutil.copytree(source, destination) \n",
    "# copy folder from source to destination\n",
    "# shutil.move(source, destination)   move file or folder from soucr to destinatio\n",
    "\n",
    "\n",
    "\n",
    "def searchfolder(folder,extentions,destination):\n",
    "    folder= os.path.abspath(folder)\n",
    "    destination = os.path.abspath(destination)\n",
    "    \n",
    "    for folderName, subfolders, filenames in os.walk(folder):\n",
    "        for filename in filenames:\n",
    "            name, extension = os.path.splitext(filename)\n",
    "            print(name)\n",
    "            print(extension)\n",
    "            print (' foldername is '  + folderName)\n",
    "#            if extension=='.pdf':\n",
    "            if extension in extentions:\n",
    "                filePath = folderName + os.path.sep + filename\n",
    "                print('filepath is'  + filePath )\n",
    "                shutil.copy(filePath, destination)\n",
    "            \n",
    "    \n",
    "folder='C:/Users/vfernhi/Test'\n",
    "destination='C:/Users/vfernhi/hiran'\n",
    "extentions = ['.pdf','.jpeg','.txt']  \n",
    "print(extentions)\n",
    "    \n",
    "searchfolder(folder,extentions,destination)\n",
    "    \n",
    "    \n",
    "    \n",
    "    "
   ]
  },
  {
   "cell_type": "code",
   "execution_count": null,
   "metadata": {},
   "outputs": [],
   "source": []
  },
  {
   "cell_type": "code",
   "execution_count": 19,
   "metadata": {},
   "outputs": [
    {
     "name": "stdout",
     "output_type": "stream",
     "text": [
      "C:/Users/vfernhi/Test\n",
      "C:\\Users\\vfernhi\\Test\n",
      "test\n",
      ".txt\n"
     ]
    }
   ],
   "source": [
    "# extra test \n",
    "import shutil,os\n",
    "folder='C:/Users/vfernhi/Test'\n",
    "print(folder)\n",
    "folder1=os.path.abspath(folder)\n",
    "print(folder1)\n",
    "\n",
    "path= \"C:/Users/vfernhi/Test/test.txt\"\n",
    "name, extension = os.path.splitext(\"test.txt\")  \n",
    "print(name)\n",
    "print(extension)\n"
   ]
  },
  {
   "cell_type": "code",
   "execution_count": null,
   "metadata": {},
   "outputs": [],
   "source": []
  },
  {
   "cell_type": "code",
   "execution_count": null,
   "metadata": {},
   "outputs": [],
   "source": []
  },
  {
   "cell_type": "code",
   "execution_count": null,
   "metadata": {},
   "outputs": [],
   "source": []
  },
  {
   "cell_type": "code",
   "execution_count": null,
   "metadata": {},
   "outputs": [],
   "source": []
  }
 ],
 "metadata": {
  "kernelspec": {
   "display_name": "Python 3",
   "language": "python",
   "name": "python3"
  },
  "language_info": {
   "codemirror_mode": {
    "name": "ipython",
    "version": 3
   },
   "file_extension": ".py",
   "mimetype": "text/x-python",
   "name": "python",
   "nbconvert_exporter": "python",
   "pygments_lexer": "ipython3",
   "version": "3.7.4"
  }
 },
 "nbformat": 4,
 "nbformat_minor": 2
}
