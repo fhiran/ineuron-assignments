{
 "cells": [
  {
   "cell_type": "code",
   "execution_count": null,
   "metadata": {},
   "outputs": [],
   "source": [
    "#1\n",
    "# re.compile()  function that returns Regex objects"
   ]
  },
  {
   "cell_type": "code",
   "execution_count": null,
   "metadata": {},
   "outputs": [],
   "source": [
    "#2\n",
    "# A Python raw string is a normal string, prefixed with a r or R\n",
    "#  r\"Hello\"  is a raw string\n",
    "\n",
    "# raw strings do not treat blackslashes(\"\\\") as a part of an escape sequence.it will printed normally as a result\n",
    "# so Raw strings are used so that backslashes do not have to be escaped"
   ]
  },
  {
   "cell_type": "code",
   "execution_count": 2,
   "metadata": {},
   "outputs": [
    {
     "name": "stdout",
     "output_type": "stream",
     "text": [
      "Hello\tfrom world\n",
      "Hi\n"
     ]
    }
   ],
   "source": [
    "s = \"Hello\\tfrom world\\nHi\"\n",
    "print(s)\n"
   ]
  },
  {
   "cell_type": "code",
   "execution_count": 3,
   "metadata": {},
   "outputs": [
    {
     "name": "stdout",
     "output_type": "stream",
     "text": [
      "Hello\\tfrom world\\nHi\n"
     ]
    }
   ],
   "source": [
    "\n",
    "# Here, both the backslashes will not be treated as escape characters, so Python will not print a tab-space and a new-line.\n",
    "s = r\"Hello\\tfrom world\\nHi\"\n",
    "print(s)"
   ]
  },
  {
   "cell_type": "code",
   "execution_count": null,
   "metadata": {},
   "outputs": [],
   "source": [
    "#3\n",
    "# search() method returns Match objects"
   ]
  },
  {
   "cell_type": "code",
   "execution_count": null,
   "metadata": {},
   "outputs": [],
   "source": [
    "#4\n",
    "# method  group()"
   ]
  },
  {
   "cell_type": "code",
   "execution_count": 46,
   "metadata": {
    "scrolled": false
   },
   "outputs": [],
   "source": [
    "#5\n",
    "import re\n",
    "regex=re.compile(r'(\\d\\d\\d)-(\\d\\d\\d-\\d\\d\\d\\d)')\n",
    "number=regex.search('telephone number 123-456-7890')\n"
   ]
  },
  {
   "cell_type": "code",
   "execution_count": 47,
   "metadata": {},
   "outputs": [
    {
     "data": {
      "text/plain": [
       "'123-456-7890'"
      ]
     },
     "execution_count": 47,
     "metadata": {},
     "output_type": "execute_result"
    }
   ],
   "source": [
    "#  group(0)  entire match\n",
    "number.group(0)"
   ]
  },
  {
   "cell_type": "code",
   "execution_count": 48,
   "metadata": {},
   "outputs": [
    {
     "data": {
      "text/plain": [
       "'123'"
      ]
     },
     "execution_count": 48,
     "metadata": {},
     "output_type": "execute_result"
    }
   ],
   "source": [
    "# group(1)  first set of parentheses\n",
    "number.group(1)"
   ]
  },
  {
   "cell_type": "code",
   "execution_count": 49,
   "metadata": {},
   "outputs": [
    {
     "data": {
      "text/plain": [
       "'456-7890'"
      ]
     },
     "execution_count": 49,
     "metadata": {},
     "output_type": "execute_result"
    }
   ],
   "source": [
    "# group(2) second set of parentheses\n",
    "number.group(2)"
   ]
  },
  {
   "cell_type": "code",
   "execution_count": 59,
   "metadata": {},
   "outputs": [],
   "source": [
    "# 6\n",
    "# have to escape Periods and parentheses , \n",
    "# escape period  use    \\.,\n",
    "# escape parentheses   use  \\(, and  \\).\n",
    "# let assume timestamp [2021-06-06]  in a log line , so use   \\[[0-9][4]-[0-9][2]-[0-9][2]\\]  for escape []"
   ]
  },
  {
   "cell_type": "code",
   "execution_count": 62,
   "metadata": {},
   "outputs": [
    {
     "data": {
      "text/plain": [
       "[('123', '456', '7890'), ('122', '345', '6789')]"
      ]
     },
     "execution_count": 62,
     "metadata": {},
     "output_type": "execute_result"
    }
   ],
   "source": [
    "#7\n",
    "# if regex have groups list of tuples strings return\n",
    "import re\n",
    "regex=re.compile(r'(\\d\\d\\d)-(\\d\\d\\d)-(\\d\\d\\d\\d)') # have groups\n",
    "number=regex.findall('home: 123-456-7890  work:122-345-6789')\n",
    "number"
   ]
  },
  {
   "cell_type": "code",
   "execution_count": 63,
   "metadata": {},
   "outputs": [
    {
     "data": {
      "text/plain": [
       "['123-456-7890', '122-345-6789']"
      ]
     },
     "execution_count": 63,
     "metadata": {},
     "output_type": "execute_result"
    }
   ],
   "source": [
    "import re\n",
    "# if regex do not have groups list strings  return\n",
    "regex=re.compile(r'\\d\\d\\d-\\d\\d\\d-\\d\\d\\d\\d') # do not have groups\n",
    "number=regex.findall('home: 123-456-7890  work:122-345-6789')\n",
    "number"
   ]
  },
  {
   "cell_type": "code",
   "execution_count": 67,
   "metadata": {},
   "outputs": [
    {
     "data": {
      "text/plain": [
       "'newyork'"
      ]
     },
     "execution_count": 67,
     "metadata": {},
     "output_type": "execute_result"
    }
   ],
   "source": [
    "#8\n",
    "# \n",
    "#The | character is called a pipe.\n",
    "# it can be use anywhere  to match one of many expressions\n",
    "# A pipe symbol allows regular expression components to be logically matching “either, or” between two groups\n",
    "import re\n",
    "regex=re.compile(r'newyork|london city')\n",
    "g1=regex.search(' the city of newyork and london city')\n",
    "g1.group()\n"
   ]
  },
  {
   "cell_type": "code",
   "execution_count": 79,
   "metadata": {},
   "outputs": [
    {
     "data": {
      "text/plain": [
       "'london city'"
      ]
     },
     "execution_count": 79,
     "metadata": {},
     "output_type": "execute_result"
    }
   ],
   "source": [
    "import re\n",
    "regex=re.compile(r'newyork|london city')\n",
    "g2=regex.search('the london city the city of newyork and london city')\n",
    "g2.group()"
   ]
  },
  {
   "cell_type": "code",
   "execution_count": 80,
   "metadata": {},
   "outputs": [
    {
     "data": {
      "text/plain": [
       "'122-345-5678'"
      ]
     },
     "execution_count": 80,
     "metadata": {},
     "output_type": "execute_result"
    }
   ],
   "source": [
    "#9\n",
    "#in regular expression ? mean ,  match zero or one of the preceding group\n",
    "import re\n",
    "Phonenumber=re.compile(r'(\\d\\d\\d-)?\\d\\d\\d-\\d\\d\\d\\d')\n",
    "ph1=Phonenumber.search('phone number is 122-345-5678')\n",
    "ph1.group()"
   ]
  },
  {
   "cell_type": "code",
   "execution_count": 81,
   "metadata": {},
   "outputs": [
    {
     "data": {
      "text/plain": [
       "'345-5678'"
      ]
     },
     "execution_count": 81,
     "metadata": {},
     "output_type": "execute_result"
    }
   ],
   "source": [
    "import re\n",
    "Phonenumber=re.compile(r'(\\d\\d\\d-)?\\d\\d\\d-\\d\\d\\d\\d')\n",
    "ph2=Phonenumber.search('phone number is 345-5678')\n",
    "ph2.group()"
   ]
  },
  {
   "cell_type": "code",
   "execution_count": 83,
   "metadata": {},
   "outputs": [
    {
     "data": {
      "text/plain": [
       "'supperman'"
      ]
     },
     "execution_count": 83,
     "metadata": {},
     "output_type": "execute_result"
    }
   ],
   "source": [
    "#10\n",
    "# regular expression * means  \"match zero or more\"\n",
    "# regular expression + means ,  \"match one or  more\"\n",
    "\n",
    "R1=re.compile(r'supper(xo)*man')\n",
    "test1=R1.search('there are supperman')\n",
    "test1.group()"
   ]
  },
  {
   "cell_type": "code",
   "execution_count": 84,
   "metadata": {},
   "outputs": [
    {
     "data": {
      "text/plain": [
       "'supperxoman'"
      ]
     },
     "execution_count": 84,
     "metadata": {},
     "output_type": "execute_result"
    }
   ],
   "source": [
    "R1=re.compile(r'supper(xo)*man')\n",
    "test1=R1.search('there are supperxoman')\n",
    "test1.group()"
   ]
  },
  {
   "cell_type": "code",
   "execution_count": 88,
   "metadata": {},
   "outputs": [
    {
     "data": {
      "text/plain": [
       "'supperxoxoxoxoman'"
      ]
     },
     "execution_count": 88,
     "metadata": {},
     "output_type": "execute_result"
    }
   ],
   "source": [
    "R1=re.compile(r'supper(xo)*man')\n",
    "test1=R1.search('there are supperxoxoxoxoman')\n",
    "test1.group()"
   ]
  },
  {
   "cell_type": "code",
   "execution_count": 7,
   "metadata": {},
   "outputs": [
    {
     "data": {
      "text/plain": [
       "'supperxoxoman'"
      ]
     },
     "execution_count": 7,
     "metadata": {},
     "output_type": "execute_result"
    }
   ],
   "source": [
    "import re\n",
    "R1=re.compile(r'supper(xo)+man')\n",
    "test1=R1.search('there are supperxoxoman')\n",
    "test1.group()"
   ]
  },
  {
   "cell_type": "code",
   "execution_count": 93,
   "metadata": {},
   "outputs": [
    {
     "data": {
      "text/plain": [
       "'xoxoxoxo'"
      ]
     },
     "execution_count": 93,
     "metadata": {},
     "output_type": "execute_result"
    }
   ],
   "source": [
    "#11\n",
    "#  (xo){4}  matches exactly four instances of the preceding group\n",
    "# (xo){4,5}  matches between four and five instances\n",
    "\n",
    "R2=re.compile(r'(xo){4}')\n",
    "test2=R2.search('there are supperxoxoxoxoman')\n",
    "test2.group()"
   ]
  },
  {
   "cell_type": "code",
   "execution_count": 100,
   "metadata": {},
   "outputs": [
    {
     "data": {
      "text/plain": [
       "'xoxoxoxoxo'"
      ]
     },
     "execution_count": 100,
     "metadata": {},
     "output_type": "execute_result"
    }
   ],
   "source": [
    "R2=re.compile(r'(xo){4,5}')\n",
    "test2=R2.search('there are xoxoxoxoxo')\n",
    "test2.group()"
   ]
  },
  {
   "cell_type": "code",
   "execution_count": null,
   "metadata": {},
   "outputs": [],
   "source": [
    "#12\n",
    "# \\d Any numeric digit from 0 to 9.\n",
    "# \\w  Any letter, numeric digit, or the underscore character.(  word  )\n",
    "# \\s  Any space, tab, or newline character ( 'space')"
   ]
  },
  {
   "cell_type": "code",
   "execution_count": null,
   "metadata": {},
   "outputs": [],
   "source": [
    "#13\n",
    "# \\D Any character that is not a numeric digit from 0 to 9\n",
    "# \\W Any character that is not a letter, numeric digit, or the underscore character.\n",
    "# \\S Any character that is not a space, tab, or newline.\n"
   ]
  },
  {
   "cell_type": "code",
   "execution_count": null,
   "metadata": {},
   "outputs": [],
   "source": [
    "#14\n",
    "# what is difference between .*? and .*?\n",
    "# I think this question is wrong  , there is no any difference in these  regex"
   ]
  },
  {
   "cell_type": "code",
   "execution_count": 9,
   "metadata": {},
   "outputs": [
    {
     "data": {
      "text/plain": [
       "'thei is world '"
      ]
     },
     "execution_count": 9,
     "metadata": {},
     "output_type": "execute_result"
    }
   ],
   "source": [
    "#15\n",
    "# .* match everything except a new line. greedy mode\n",
    "#  By passing re.DOTALL as the second argument to re.compile(), \n",
    "# we can make the dot character match all characters, including the newline character.\n",
    "\n",
    "import re\n",
    "lineregex1=re.compile('.*')\n",
    "lineregex1.search('thei is world \\ngood for live \\nevery one').group()\n"
   ]
  },
  {
   "cell_type": "code",
   "execution_count": 10,
   "metadata": {},
   "outputs": [
    {
     "data": {
      "text/plain": [
       "'thei is world \\ngood for live \\nevery one'"
      ]
     },
     "execution_count": 10,
     "metadata": {},
     "output_type": "execute_result"
    }
   ],
   "source": [
    "import re\n",
    "lineregex1=re.compile('.*',re.DOTALL)\n",
    "lineregex1.search('thei is world \\ngood for live \\nevery one').group()\n"
   ]
  },
  {
   "cell_type": "code",
   "execution_count": null,
   "metadata": {},
   "outputs": [],
   "source": [
    "#16\n",
    "#  for make regular expression in case intensive pass the  re.IGNORECASE or re.I to the second argument \n",
    "# to re.compile()\n"
   ]
  },
  {
   "cell_type": "code",
   "execution_count": 11,
   "metadata": {},
   "outputs": [
    {
     "data": {
      "text/plain": [
       "'Neoron'"
      ]
     },
     "execution_count": 11,
     "metadata": {},
     "output_type": "execute_result"
    }
   ],
   "source": [
    "import re\n",
    "caseintensive=re.compile(r'neoron',re.I)\n",
    "caseintensive.search('in human Body bilions of Neoron ').group()\n"
   ]
  },
  {
   "cell_type": "code",
   "execution_count": 12,
   "metadata": {},
   "outputs": [
    {
     "data": {
      "text/plain": [
       "'neoron'"
      ]
     },
     "execution_count": 12,
     "metadata": {},
     "output_type": "execute_result"
    }
   ],
   "source": [
    "import re\n",
    "caseintensive=re.compile(r'neoron',re.I)\n",
    "caseintensive.search('in human Body bilions of neoron ').group()"
   ]
  },
  {
   "cell_type": "code",
   "execution_count": 13,
   "metadata": {},
   "outputs": [
    {
     "data": {
      "text/plain": [
       "'NEORON'"
      ]
     },
     "execution_count": 13,
     "metadata": {},
     "output_type": "execute_result"
    }
   ],
   "source": [
    "import re\n",
    "caseintensive=re.compile(r'neoron',re.I)\n",
    "caseintensive.search('in human Body bilions of NEORON ').group()"
   ]
  },
  {
   "cell_type": "code",
   "execution_count": 37,
   "metadata": {},
   "outputs": [
    {
     "data": {
      "text/plain": [
       "'\\n'"
      ]
     },
     "execution_count": 37,
     "metadata": {},
     "output_type": "execute_result"
    }
   ],
   "source": [
    "#17\n",
    "# The . matches any character, except newline characters.\n",
    "# I think have to write regex  match any character including newline charactoe(\\n)\n",
    "# regular expression [a-zA-Z0-9]\n",
    "\n",
    "import re\n",
    "lineregex1=re.compile('.',re.DOTALL)\n",
    "lineregex1.search('\\nThe i is world \\ngood for live \\nevery one').group()"
   ]
  },
  {
   "cell_type": "code",
   "execution_count": 38,
   "metadata": {},
   "outputs": [
    {
     "data": {
      "text/plain": [
       "'X drummers , X pipers, five rings, X hens'"
      ]
     },
     "execution_count": 38,
     "metadata": {},
     "output_type": "execute_result"
    }
   ],
   "source": [
    "#18\n",
    "import re\n",
    "numreg=re.compile(r'\\d+')\n",
    "numreg.sub('X','11 drummers , 10 pipers, five rings, 4 hens')\n",
    "\n",
    "\n"
   ]
  },
  {
   "cell_type": "code",
   "execution_count": 56,
   "metadata": {},
   "outputs": [],
   "source": [
    "#19\n",
    "#  re.VERBOSE to write comments in to the  string passed to re.compile()\n"
   ]
  },
  {
   "cell_type": "code",
   "execution_count": 102,
   "metadata": {},
   "outputs": [
    {
     "data": {
      "text/plain": [
       "<re.Match object; span=(0, 2), match='42'>"
      ]
     },
     "execution_count": 102,
     "metadata": {},
     "output_type": "execute_result"
    }
   ],
   "source": [
    "#20\n",
    "import re\n",
    "\n",
    "#number1=re.compile(r'^\\d{1,3},')\n",
    "# number1=re.compile(r'^(,\\d{3})*$')\n",
    "#number1=re.compile(r'^\\d{3},')\n",
    "number1=re.compile(r'^\\d{1,3}(,\\d{3})*$')\n",
    "number1.search('42')\n",
    "\n",
    "                   \n"
   ]
  },
  {
   "cell_type": "code",
   "execution_count": 117,
   "metadata": {},
   "outputs": [],
   "source": [
    "#21\n",
    "import re\n",
    "name1=re.compile(r'^[A-Z][a-z]*\\s*Watanabe')\n",
    "name1.search('Hartho   watanabe')"
   ]
  },
  {
   "cell_type": "code",
   "execution_count": 129,
   "metadata": {},
   "outputs": [
    {
     "data": {
      "text/plain": [
       "<re.Match object; span=(0, 25), match='alice Throws      apples.'>"
      ]
     },
     "execution_count": 129,
     "metadata": {},
     "output_type": "execute_result"
    }
   ],
   "source": [
    "#22\n",
    "import re\n",
    "name2=re.compile(r'(Alice|Bob|Carol)\\s*(eats|pets|throws)\\s*(apples|cats|baseeballs)\\.', re.IGNORECASE)\n",
    "name2.search('alice Throws      apples.')"
   ]
  },
  {
   "cell_type": "code",
   "execution_count": null,
   "metadata": {},
   "outputs": [],
   "source": []
  },
  {
   "cell_type": "code",
   "execution_count": null,
   "metadata": {},
   "outputs": [],
   "source": []
  }
 ],
 "metadata": {
  "kernelspec": {
   "display_name": "Python 3",
   "language": "python",
   "name": "python3"
  },
  "language_info": {
   "codemirror_mode": {
    "name": "ipython",
    "version": 3
   },
   "file_extension": ".py",
   "mimetype": "text/x-python",
   "name": "python",
   "nbconvert_exporter": "python",
   "pygments_lexer": "ipython3",
   "version": "3.7.4"
  }
 },
 "nbformat": 4,
 "nbformat_minor": 2
}
